{
  "nbformat": 4,
  "nbformat_minor": 0,
  "metadata": {
    "colab": {
      "name": "cnn.ipynb",
      "provenance": [],
      "collapsed_sections": []
    },
    "kernelspec": {
      "name": "python3",
      "display_name": "Python 3"
    },
    "accelerator": "GPU"
  },
  "cells": [
    {
      "cell_type": "code",
      "metadata": {
        "id": "Z2aM6fTZtDix",
        "colab_type": "code",
        "colab": {
          "base_uri": "https://localhost:8080/",
          "height": 80
        },
        "outputId": "f161b6b5-d279-455f-ed38-324457945cea"
      },
      "source": [
        "import os\n",
        "import sys\n",
        "import numpy as np\n",
        "import keras\n",
        "from keras.preprocessing.text import Tokenizer\n",
        "from keras.utils import to_categorical\n",
        "from keras.preprocessing.sequence import pad_sequences\n",
        "from keras.layers import Activation, Conv2D, Input, Embedding, Reshape, MaxPool2D, Concatenate, Flatten, Dropout, Dense, Conv1D\n",
        "from keras.layers import MaxPool1D\n",
        "from keras.models import Model\n",
        "from keras.callbacks import ModelCheckpoint\n",
        "from keras.optimizers import Adam"
      ],
      "execution_count": null,
      "outputs": [
        {
          "output_type": "stream",
          "text": [
            "Using TensorFlow backend.\n"
          ],
          "name": "stderr"
        },
        {
          "output_type": "display_data",
          "data": {
            "text/html": [
              "<p style=\"color: red;\">\n",
              "The default version of TensorFlow in Colab will soon switch to TensorFlow 2.x.<br>\n",
              "We recommend you <a href=\"https://www.tensorflow.org/guide/migrate\" target=\"_blank\">upgrade</a> now \n",
              "or ensure your notebook will continue to use TensorFlow 1.x via the <code>%tensorflow_version 1.x</code> magic:\n",
              "<a href=\"https://colab.research.google.com/notebooks/tensorflow_version.ipynb\" target=\"_blank\">more info</a>.</p>\n"
            ],
            "text/plain": [
              "<IPython.core.display.HTML object>"
            ]
          },
          "metadata": {
            "tags": []
          }
        }
      ]
    },
    {
      "cell_type": "code",
      "metadata": {
        "id": "hkG53suutQLa",
        "colab_type": "code",
        "colab": {}
      },
      "source": [
        "# the dataset path\n",
        "TEXT_DATA_DIR = r'../input/20-newsgroup-original/20_newsgroup/20_newsgroup/'\n",
        "#the path for Glove embeddings\n",
        "GLOVE_DIR = r'./drive/My Drive/Colab Notebooks/'\n",
        "# make the max word length to be constant\n",
        "MAX_WORDS = 10000\n",
        "MAX_SEQUENCE_LENGTH = 1000\n",
        "# the percentage of train test split to be applied\n",
        "VALIDATION_SPLIT = 0.20\n",
        "# the dimension of vectors to be used\n",
        "EMBEDDING_DIM = 100\n",
        "# filter sizes of the different conv layers \n",
        "filter_sizes = [3,4,5]\n",
        "num_filters = 512\n",
        "embedding_dim = 100\n",
        "# dropout probability\n",
        "drop = 0.25\n",
        "batch_size = 256\n",
        "epochs = 50"
      ],
      "execution_count": null,
      "outputs": []
    },
    {
      "cell_type": "code",
      "metadata": {
        "id": "ARyThU8otV6A",
        "colab_type": "code",
        "colab": {
          "base_uri": "https://localhost:8080/",
          "height": 85
        },
        "outputId": "ea863026-c8de-4edb-e5d3-5134b482ced7"
      },
      "source": [
        "## preparing dataset\n",
        "from sklearn.datasets import fetch_20newsgroups\n",
        "\n",
        "\n",
        "categories=['talk.politics.mideast', 'rec.sport.hockey','comp.graphics', 'sci.med', 'sci.space', 'comp.sys.ibm.pc.hardware', 'alt.atheism']\n",
        "df_train=fetch_20newsgroups(subset='train',shuffle=True,random_state=42)\n",
        "df_test=fetch_20newsgroups(subset='test',shuffle=True,random_state=42)\n",
        "# print(len(df_train.target_names))\n",
        "\n",
        "print('Found %s texts train.' % len(df_train.data))\n",
        "print('Found %s texts test.' % len(df_test.data))"
      ],
      "execution_count": null,
      "outputs": [
        {
          "output_type": "stream",
          "text": [
            "Downloading 20news dataset. This may take a few minutes.\n",
            "Downloading dataset from https://ndownloader.figshare.com/files/5975967 (14 MB)\n"
          ],
          "name": "stderr"
        },
        {
          "output_type": "stream",
          "text": [
            "Found 11314 texts train.\n",
            "Found 7532 texts test.\n"
          ],
          "name": "stdout"
        }
      ]
    },
    {
      "cell_type": "code",
      "metadata": {
        "id": "U7ZC98BsvaWx",
        "colab_type": "code",
        "colab": {
          "base_uri": "https://localhost:8080/",
          "height": 122
        },
        "outputId": "9076823c-4ca8-4007-b5c3-4aa5c7b1fe68"
      },
      "source": [
        "from google.colab import drive\n",
        "drive.mount('/content/drive')"
      ],
      "execution_count": null,
      "outputs": [
        {
          "output_type": "stream",
          "text": [
            "Go to this URL in a browser: https://accounts.google.com/o/oauth2/auth?client_id=947318989803-6bn6qk8qdgf4n4g3pfee6491hc0brc4i.apps.googleusercontent.com&redirect_uri=urn%3aietf%3awg%3aoauth%3a2.0%3aoob&response_type=code&scope=email%20https%3a%2f%2fwww.googleapis.com%2fauth%2fdocs.test%20https%3a%2f%2fwww.googleapis.com%2fauth%2fdrive%20https%3a%2f%2fwww.googleapis.com%2fauth%2fdrive.photos.readonly%20https%3a%2f%2fwww.googleapis.com%2fauth%2fpeopleapi.readonly\n",
            "\n",
            "Enter your authorization code:\n",
            "··········\n",
            "Mounted at /content/drive\n"
          ],
          "name": "stdout"
        }
      ]
    },
    {
      "cell_type": "code",
      "metadata": {
        "id": "Kfq547dawds6",
        "colab_type": "code",
        "colab": {
          "base_uri": "https://localhost:8080/",
          "height": 51
        },
        "outputId": "aad80e2a-9428-451c-8eed-ad6bef6f780a"
      },
      "source": [
        "texts=[]\n",
        "\n",
        "for x in df_train.data:\n",
        "  texts.append(x)\n",
        "for x in df_test.data:\n",
        "  texts.append(x)\n",
        "print(len(texts))\n",
        "\n",
        "labels=[]\n",
        "\n",
        "for x in df_train.target:\n",
        "  labels.append(x)\n",
        "for x in df_test.target:\n",
        "  labels.append(x)\n",
        "print(len(labels))"
      ],
      "execution_count": null,
      "outputs": [
        {
          "output_type": "stream",
          "text": [
            "18846\n",
            "18846\n"
          ],
          "name": "stdout"
        }
      ]
    },
    {
      "cell_type": "code",
      "metadata": {
        "id": "AmmORoC1vlPX",
        "colab_type": "code",
        "colab": {
          "base_uri": "https://localhost:8080/",
          "height": 187
        },
        "outputId": "82509d84-5fd5-43fd-825c-bec58c227c73"
      },
      "source": [
        "tokenizer  = Tokenizer(num_words = MAX_WORDS)\n",
        "tokenizer.fit_on_texts(texts)\n",
        "sequences =  tokenizer.texts_to_sequences(texts)\n",
        "\n",
        "word_index = tokenizer.word_index\n",
        "print(\"unique words : {}\".format(len(word_index)))\n",
        "\n",
        "data = pad_sequences(sequences, maxlen=MAX_SEQUENCE_LENGTH)\n",
        "\n",
        "labels = to_categorical(np.asarray(labels))\n",
        "print('Shape of data tensor:', data.shape)\n",
        "print('Shape of label tensor:', labels.shape)\n",
        "print(labels)"
      ],
      "execution_count": null,
      "outputs": [
        {
          "output_type": "stream",
          "text": [
            "unique words : 179209\n",
            "Shape of data tensor: (18846, 1000)\n",
            "Shape of label tensor: (18846, 20)\n",
            "[[0. 0. 0. ... 0. 0. 0.]\n",
            " [0. 0. 0. ... 0. 0. 0.]\n",
            " [0. 0. 0. ... 0. 0. 0.]\n",
            " ...\n",
            " [0. 0. 0. ... 0. 0. 0.]\n",
            " [0. 0. 0. ... 0. 0. 0.]\n",
            " [0. 0. 0. ... 0. 0. 0.]]\n"
          ],
          "name": "stdout"
        }
      ]
    },
    {
      "cell_type": "code",
      "metadata": {
        "id": "dOeyOXlRyDJi",
        "colab_type": "code",
        "colab": {}
      },
      "source": [
        "# split the data into a training set and a validation set\n",
        "indices = np.arange(data.shape[0])\n",
        "np.random.shuffle(indices)\n",
        "data = data[indices]\n",
        "labels = labels[indices]\n",
        "nb_validation_samples = int(VALIDATION_SPLIT * data.shape[0])\n",
        "\n",
        "x_train = data[:-nb_validation_samples]\n",
        "y_train = labels[:-nb_validation_samples]\n",
        "x_val = data[-nb_validation_samples:]\n",
        "y_val = labels[-nb_validation_samples:]"
      ],
      "execution_count": null,
      "outputs": []
    },
    {
      "cell_type": "code",
      "metadata": {
        "id": "87N_eFtMyGrv",
        "colab_type": "code",
        "colab": {
          "base_uri": "https://localhost:8080/",
          "height": 34
        },
        "outputId": "26d47ff3-54ae-4a6c-de81-bbc982337f66"
      },
      "source": [
        "embeddings_index = {}\n",
        "f = open(os.path.join(GLOVE_DIR, 'glove.6B.100d.txt'))\n",
        "for line in f:\n",
        "    values = line.split()\n",
        "    word = values[0]\n",
        "    coefs = np.asarray(values[1:], dtype='float32')\n",
        "    embeddings_index[word] = coefs\n",
        "f.close()\n",
        "\n",
        "print('Found %s word vectors.' % len(embeddings_index))"
      ],
      "execution_count": null,
      "outputs": [
        {
          "output_type": "stream",
          "text": [
            "Found 400000 word vectors.\n"
          ],
          "name": "stdout"
        }
      ]
    },
    {
      "cell_type": "code",
      "metadata": {
        "id": "YrkK3L83ylv5",
        "colab_type": "code",
        "colab": {}
      },
      "source": [
        "embedding_matrix = np.zeros((len(word_index) + 1, EMBEDDING_DIM))\n",
        "for word, i in word_index.items():\n",
        "    embedding_vector = embeddings_index.get(word)\n",
        "    if embedding_vector is not None:\n",
        "        # words not found in embedding index will be all-zeros.\n",
        "        embedding_matrix[i] = embedding_vector"
      ],
      "execution_count": null,
      "outputs": []
    },
    {
      "cell_type": "code",
      "metadata": {
        "id": "-scdpahK1_Ai",
        "colab_type": "code",
        "colab": {
          "base_uri": "https://localhost:8080/",
          "height": 71
        },
        "outputId": "14c9adc6-b1c3-417c-e1f7-26c7292941f5"
      },
      "source": [
        "from keras.layers import Embedding\n",
        "\n",
        "embedding_layer = Embedding(len(word_index) + 1,\n",
        "                            EMBEDDING_DIM,\n",
        "                            weights=[embedding_matrix],\n",
        "                            input_length=MAX_SEQUENCE_LENGTH,\n",
        "                            trainable=False)"
      ],
      "execution_count": null,
      "outputs": [
        {
          "output_type": "stream",
          "text": [
            "WARNING:tensorflow:From /usr/local/lib/python3.6/dist-packages/keras/backend/tensorflow_backend.py:66: The name tf.get_default_graph is deprecated. Please use tf.compat.v1.get_default_graph instead.\n",
            "\n"
          ],
          "name": "stdout"
        }
      ]
    },
    {
      "cell_type": "code",
      "metadata": {
        "id": "2CqFDPjb2D8v",
        "colab_type": "code",
        "colab": {
          "base_uri": "https://localhost:8080/",
          "height": 1000
        },
        "outputId": "bfc92acb-30ff-43c5-8698-ee9b4012fe81"
      },
      "source": [
        "inputs = Input(shape=(MAX_SEQUENCE_LENGTH,), dtype='int32')\n",
        "embedding = embedding_layer(inputs)\n",
        "\n",
        "print(embedding.shape)\n",
        "reshape = Reshape((MAX_SEQUENCE_LENGTH,EMBEDDING_DIM,1))(embedding)\n",
        "print(reshape.shape)\n",
        "\n",
        "conv_0 = Conv2D(num_filters, kernel_size=(filter_sizes[0], embedding_dim), padding='valid', kernel_initializer='normal', activation='relu')(reshape)\n",
        "conv_1 = Conv2D(num_filters, kernel_size=(filter_sizes[1], embedding_dim), padding='valid', kernel_initializer='normal', activation='relu')(reshape)\n",
        "conv_2 = Conv2D(num_filters, kernel_size=(filter_sizes[2], embedding_dim), padding='valid', kernel_initializer='normal', activation='relu')(reshape)\n",
        "\n",
        "maxpool_0 = MaxPool2D(pool_size=(MAX_SEQUENCE_LENGTH - filter_sizes[0] + 1, 1), strides=(1,1), padding='valid')(conv_0)\n",
        "maxpool_1 = MaxPool2D(pool_size=(MAX_SEQUENCE_LENGTH - filter_sizes[1] + 1, 1), strides=(1,1), padding='valid')(conv_1)\n",
        "maxpool_2 = MaxPool2D(pool_size=(MAX_SEQUENCE_LENGTH - filter_sizes[2] + 1, 1), strides=(1,1), padding='valid')(conv_2)\n",
        "\n",
        "concatenated_tensor = Concatenate(axis=1)([maxpool_0, maxpool_1, maxpool_2])\n",
        "flatten = Flatten()(concatenated_tensor)\n",
        "dropout = Dropout(drop)(flatten)\n",
        "output = Dense(units=20, activation='softmax')(dropout)\n",
        "\n",
        "# this creates a model that includes\n",
        "model = Model(inputs=inputs, outputs=output)\n",
        "\n",
        "checkpoint = ModelCheckpoint('weights_cnn_sentece.hdf5', monitor='val_acc', verbose=1, save_best_only=True, mode='auto')\n",
        "adam = Adam(lr=1e-4, beta_1=0.9, beta_2=0.999, epsilon=1e-08, decay=0.0)\n",
        "\n",
        "model.compile(optimizer='adam', loss='categorical_crossentropy', metrics=['accuracy'])\n",
        "model.summary()"
      ],
      "execution_count": null,
      "outputs": [
        {
          "output_type": "stream",
          "text": [
            "WARNING:tensorflow:From /usr/local/lib/python3.6/dist-packages/keras/backend/tensorflow_backend.py:541: The name tf.placeholder is deprecated. Please use tf.compat.v1.placeholder instead.\n",
            "\n",
            "WARNING:tensorflow:From /usr/local/lib/python3.6/dist-packages/keras/backend/tensorflow_backend.py:4432: The name tf.random_uniform is deprecated. Please use tf.random.uniform instead.\n",
            "\n",
            "WARNING:tensorflow:From /usr/local/lib/python3.6/dist-packages/keras/backend/tensorflow_backend.py:190: The name tf.get_default_session is deprecated. Please use tf.compat.v1.get_default_session instead.\n",
            "\n",
            "WARNING:tensorflow:From /usr/local/lib/python3.6/dist-packages/keras/backend/tensorflow_backend.py:197: The name tf.ConfigProto is deprecated. Please use tf.compat.v1.ConfigProto instead.\n",
            "\n",
            "WARNING:tensorflow:From /usr/local/lib/python3.6/dist-packages/keras/backend/tensorflow_backend.py:203: The name tf.Session is deprecated. Please use tf.compat.v1.Session instead.\n",
            "\n",
            "WARNING:tensorflow:From /usr/local/lib/python3.6/dist-packages/keras/backend/tensorflow_backend.py:207: The name tf.global_variables is deprecated. Please use tf.compat.v1.global_variables instead.\n",
            "\n",
            "WARNING:tensorflow:From /usr/local/lib/python3.6/dist-packages/keras/backend/tensorflow_backend.py:216: The name tf.is_variable_initialized is deprecated. Please use tf.compat.v1.is_variable_initialized instead.\n",
            "\n",
            "WARNING:tensorflow:From /usr/local/lib/python3.6/dist-packages/keras/backend/tensorflow_backend.py:223: The name tf.variables_initializer is deprecated. Please use tf.compat.v1.variables_initializer instead.\n",
            "\n",
            "(?, 1000, 100)\n",
            "(?, 1000, 100, 1)\n",
            "WARNING:tensorflow:From /usr/local/lib/python3.6/dist-packages/keras/backend/tensorflow_backend.py:4409: The name tf.random_normal is deprecated. Please use tf.random.normal instead.\n",
            "\n",
            "WARNING:tensorflow:From /usr/local/lib/python3.6/dist-packages/keras/backend/tensorflow_backend.py:4267: The name tf.nn.max_pool is deprecated. Please use tf.nn.max_pool2d instead.\n",
            "\n",
            "WARNING:tensorflow:From /usr/local/lib/python3.6/dist-packages/keras/backend/tensorflow_backend.py:148: The name tf.placeholder_with_default is deprecated. Please use tf.compat.v1.placeholder_with_default instead.\n",
            "\n",
            "WARNING:tensorflow:From /usr/local/lib/python3.6/dist-packages/keras/backend/tensorflow_backend.py:3733: calling dropout (from tensorflow.python.ops.nn_ops) with keep_prob is deprecated and will be removed in a future version.\n",
            "Instructions for updating:\n",
            "Please use `rate` instead of `keep_prob`. Rate should be set to `rate = 1 - keep_prob`.\n",
            "WARNING:tensorflow:From /usr/local/lib/python3.6/dist-packages/keras/optimizers.py:793: The name tf.train.Optimizer is deprecated. Please use tf.compat.v1.train.Optimizer instead.\n",
            "\n",
            "WARNING:tensorflow:From /usr/local/lib/python3.6/dist-packages/keras/backend/tensorflow_backend.py:3576: The name tf.log is deprecated. Please use tf.math.log instead.\n",
            "\n",
            "Model: \"model_1\"\n",
            "__________________________________________________________________________________________________\n",
            "Layer (type)                    Output Shape         Param #     Connected to                     \n",
            "==================================================================================================\n",
            "input_1 (InputLayer)            (None, 1000)         0                                            \n",
            "__________________________________________________________________________________________________\n",
            "embedding_1 (Embedding)         (None, 1000, 100)    17921000    input_1[0][0]                    \n",
            "__________________________________________________________________________________________________\n",
            "reshape_1 (Reshape)             (None, 1000, 100, 1) 0           embedding_1[0][0]                \n",
            "__________________________________________________________________________________________________\n",
            "conv2d_1 (Conv2D)               (None, 998, 1, 512)  154112      reshape_1[0][0]                  \n",
            "__________________________________________________________________________________________________\n",
            "conv2d_2 (Conv2D)               (None, 997, 1, 512)  205312      reshape_1[0][0]                  \n",
            "__________________________________________________________________________________________________\n",
            "conv2d_3 (Conv2D)               (None, 996, 1, 512)  256512      reshape_1[0][0]                  \n",
            "__________________________________________________________________________________________________\n",
            "max_pooling2d_1 (MaxPooling2D)  (None, 1, 1, 512)    0           conv2d_1[0][0]                   \n",
            "__________________________________________________________________________________________________\n",
            "max_pooling2d_2 (MaxPooling2D)  (None, 1, 1, 512)    0           conv2d_2[0][0]                   \n",
            "__________________________________________________________________________________________________\n",
            "max_pooling2d_3 (MaxPooling2D)  (None, 1, 1, 512)    0           conv2d_3[0][0]                   \n",
            "__________________________________________________________________________________________________\n",
            "concatenate_1 (Concatenate)     (None, 3, 1, 512)    0           max_pooling2d_1[0][0]            \n",
            "                                                                 max_pooling2d_2[0][0]            \n",
            "                                                                 max_pooling2d_3[0][0]            \n",
            "__________________________________________________________________________________________________\n",
            "flatten_1 (Flatten)             (None, 1536)         0           concatenate_1[0][0]              \n",
            "__________________________________________________________________________________________________\n",
            "dropout_1 (Dropout)             (None, 1536)         0           flatten_1[0][0]                  \n",
            "__________________________________________________________________________________________________\n",
            "dense_1 (Dense)                 (None, 20)           30740       dropout_1[0][0]                  \n",
            "==================================================================================================\n",
            "Total params: 18,567,676\n",
            "Trainable params: 646,676\n",
            "Non-trainable params: 17,921,000\n",
            "__________________________________________________________________________________________________\n"
          ],
          "name": "stdout"
        }
      ]
    },
    {
      "cell_type": "code",
      "metadata": {
        "id": "032UY99K2Q8g",
        "colab_type": "code",
        "colab": {}
      },
      "source": [
        "import matplotlib.pyplot as plt\n",
        "plt.style.use('ggplot')\n",
        "\n",
        "def plot_history(history):\n",
        "    acc = history.history['acc']\n",
        "    val_acc = history.history['val_acc']\n",
        "    loss = history.history['loss']\n",
        "    val_loss = history.history['val_loss']\n",
        "    x = range(1, len(acc) + 1)\n",
        "\n",
        "    plt.figure(figsize=(12, 5))\n",
        "    plt.subplot(1, 2, 1)\n",
        "    plt.plot(x, acc, 'b', label='Training acc')\n",
        "    plt.plot(x, val_acc, 'r', label='Validation acc')\n",
        "    plt.title('Training and validation accuracy')\n",
        "    plt.legend()\n",
        "    plt.subplot(1, 2, 2)\n",
        "    plt.plot(x, loss, 'b', label='Training loss')\n",
        "    plt.plot(x, val_loss, 'r', label='Validation loss')\n",
        "    plt.title('Training and validation loss')\n",
        "    plt.legend()"
      ],
      "execution_count": null,
      "outputs": []
    },
    {
      "cell_type": "code",
      "metadata": {
        "id": "e2H-I02q2Xkv",
        "colab_type": "code",
        "colab": {
          "base_uri": "https://localhost:8080/",
          "height": 1000
        },
        "outputId": "d213cd66-d594-48ac-c69a-f5ab595c7d8c"
      },
      "source": [
        "print(\"Traning Model...\")\n",
        "history=model.fit(x_train, y_train, batch_size=batch_size, epochs=epochs, verbose=1, callbacks=[checkpoint], validation_data=(x_val, y_val))"
      ],
      "execution_count": null,
      "outputs": [
        {
          "output_type": "stream",
          "text": [
            "Traning Model...\n",
            "WARNING:tensorflow:From /usr/local/lib/python3.6/dist-packages/tensorflow_core/python/ops/math_grad.py:1424: where (from tensorflow.python.ops.array_ops) is deprecated and will be removed in a future version.\n",
            "Instructions for updating:\n",
            "Use tf.where in 2.0, which has the same broadcast rule as np.where\n",
            "WARNING:tensorflow:From /usr/local/lib/python3.6/dist-packages/keras/backend/tensorflow_backend.py:1033: The name tf.assign_add is deprecated. Please use tf.compat.v1.assign_add instead.\n",
            "\n",
            "WARNING:tensorflow:From /usr/local/lib/python3.6/dist-packages/keras/backend/tensorflow_backend.py:1020: The name tf.assign is deprecated. Please use tf.compat.v1.assign instead.\n",
            "\n",
            "Train on 15077 samples, validate on 3769 samples\n",
            "Epoch 1/50\n",
            "15077/15077 [==============================] - 137s 9ms/step - loss: 2.4957 - acc: 0.3023 - val_loss: 1.2497 - val_acc: 0.6997\n",
            "\n",
            "Epoch 00001: val_acc improved from -inf to 0.69966, saving model to weights_cnn_sentece.hdf5\n",
            "Epoch 2/50\n",
            "15077/15077 [==============================] - 131s 9ms/step - loss: 1.0554 - acc: 0.6995 - val_loss: 0.7683 - val_acc: 0.8066\n",
            "\n",
            "Epoch 00002: val_acc improved from 0.69966 to 0.80658, saving model to weights_cnn_sentece.hdf5\n",
            "Epoch 3/50\n",
            "15077/15077 [==============================] - 131s 9ms/step - loss: 0.6548 - acc: 0.8191 - val_loss: 0.6059 - val_acc: 0.8432\n",
            "\n",
            "Epoch 00003: val_acc improved from 0.80658 to 0.84319, saving model to weights_cnn_sentece.hdf5\n",
            "Epoch 4/50\n",
            "15077/15077 [==============================] - 130s 9ms/step - loss: 0.4775 - acc: 0.8725 - val_loss: 0.5416 - val_acc: 0.8525\n",
            "\n",
            "Epoch 00004: val_acc improved from 0.84319 to 0.85248, saving model to weights_cnn_sentece.hdf5\n",
            "Epoch 5/50\n",
            "15077/15077 [==============================] - 130s 9ms/step - loss: 0.3633 - acc: 0.9100 - val_loss: 0.4948 - val_acc: 0.8679\n",
            "\n",
            "Epoch 00005: val_acc improved from 0.85248 to 0.86787, saving model to weights_cnn_sentece.hdf5\n",
            "Epoch 6/50\n",
            "15077/15077 [==============================] - 131s 9ms/step - loss: 0.2800 - acc: 0.9382 - val_loss: 0.4439 - val_acc: 0.8830\n",
            "\n",
            "Epoch 00006: val_acc improved from 0.86787 to 0.88299, saving model to weights_cnn_sentece.hdf5\n",
            "Epoch 7/50\n",
            "15077/15077 [==============================] - 131s 9ms/step - loss: 0.2258 - acc: 0.9534 - val_loss: 0.4280 - val_acc: 0.8819\n",
            "\n",
            "Epoch 00007: val_acc did not improve from 0.88299\n",
            "Epoch 8/50\n",
            "15077/15077 [==============================] - 131s 9ms/step - loss: 0.1764 - acc: 0.9686 - val_loss: 0.4173 - val_acc: 0.8803\n",
            "\n",
            "Epoch 00008: val_acc did not improve from 0.88299\n",
            "Epoch 9/50\n",
            "15077/15077 [==============================] - 131s 9ms/step - loss: 0.1455 - acc: 0.9752 - val_loss: 0.4064 - val_acc: 0.8859\n",
            "\n",
            "Epoch 00009: val_acc improved from 0.88299 to 0.88591, saving model to weights_cnn_sentece.hdf5\n",
            "Epoch 10/50\n",
            "15077/15077 [==============================] - 130s 9ms/step - loss: 0.1141 - acc: 0.9832 - val_loss: 0.3802 - val_acc: 0.8931\n",
            "\n",
            "Epoch 00010: val_acc improved from 0.88591 to 0.89308, saving model to weights_cnn_sentece.hdf5\n",
            "Epoch 11/50\n",
            "15077/15077 [==============================] - 131s 9ms/step - loss: 0.0923 - acc: 0.9891 - val_loss: 0.3841 - val_acc: 0.8915\n",
            "\n",
            "Epoch 00011: val_acc did not improve from 0.89308\n",
            "Epoch 12/50\n",
            "15077/15077 [==============================] - 131s 9ms/step - loss: 0.0783 - acc: 0.9910 - val_loss: 0.3713 - val_acc: 0.8886\n",
            "\n",
            "Epoch 00012: val_acc did not improve from 0.89308\n",
            "Epoch 13/50\n",
            "15077/15077 [==============================] - 131s 9ms/step - loss: 0.0652 - acc: 0.9938 - val_loss: 0.3620 - val_acc: 0.8931\n",
            "\n",
            "Epoch 00013: val_acc did not improve from 0.89308\n",
            "Epoch 14/50\n",
            "15077/15077 [==============================] - 131s 9ms/step - loss: 0.0565 - acc: 0.9953 - val_loss: 0.3595 - val_acc: 0.9000\n",
            "\n",
            "Epoch 00014: val_acc improved from 0.89308 to 0.89997, saving model to weights_cnn_sentece.hdf5\n",
            "Epoch 15/50\n",
            "15077/15077 [==============================] - 130s 9ms/step - loss: 0.0490 - acc: 0.9964 - val_loss: 0.3535 - val_acc: 0.8989\n",
            "\n",
            "Epoch 00015: val_acc did not improve from 0.89997\n",
            "Epoch 16/50\n",
            "15077/15077 [==============================] - 130s 9ms/step - loss: 0.0420 - acc: 0.9964 - val_loss: 0.3500 - val_acc: 0.8986\n",
            "\n",
            "Epoch 00016: val_acc did not improve from 0.89997\n",
            "Epoch 17/50\n",
            "15077/15077 [==============================] - 130s 9ms/step - loss: 0.0368 - acc: 0.9975 - val_loss: 0.3541 - val_acc: 0.8984\n",
            "\n",
            "Epoch 00017: val_acc did not improve from 0.89997\n",
            "Epoch 18/50\n",
            "15077/15077 [==============================] - 131s 9ms/step - loss: 0.0333 - acc: 0.9980 - val_loss: 0.3581 - val_acc: 0.8986\n",
            "\n",
            "Epoch 00018: val_acc did not improve from 0.89997\n",
            "Epoch 19/50\n",
            "15077/15077 [==============================] - 131s 9ms/step - loss: 0.0291 - acc: 0.9979 - val_loss: 0.3416 - val_acc: 0.8994\n",
            "\n",
            "Epoch 00019: val_acc did not improve from 0.89997\n",
            "Epoch 20/50\n",
            "15077/15077 [==============================] - 130s 9ms/step - loss: 0.0281 - acc: 0.9972 - val_loss: 0.3468 - val_acc: 0.8992\n",
            "\n",
            "Epoch 00020: val_acc did not improve from 0.89997\n",
            "Epoch 21/50\n",
            "15077/15077 [==============================] - 131s 9ms/step - loss: 0.0244 - acc: 0.9982 - val_loss: 0.3435 - val_acc: 0.8994\n",
            "\n",
            "Epoch 00021: val_acc did not improve from 0.89997\n",
            "Epoch 22/50\n",
            "15077/15077 [==============================] - 130s 9ms/step - loss: 0.0224 - acc: 0.9980 - val_loss: 0.3438 - val_acc: 0.9013\n",
            "\n",
            "Epoch 00022: val_acc improved from 0.89997 to 0.90130, saving model to weights_cnn_sentece.hdf5\n",
            "Epoch 23/50\n",
            "15077/15077 [==============================] - 130s 9ms/step - loss: 0.0202 - acc: 0.9988 - val_loss: 0.3407 - val_acc: 0.9000\n",
            "\n",
            "Epoch 00023: val_acc did not improve from 0.90130\n",
            "Epoch 24/50\n",
            "15077/15077 [==============================] - 130s 9ms/step - loss: 0.0186 - acc: 0.9987 - val_loss: 0.3393 - val_acc: 0.9063\n",
            "\n",
            "Epoch 00024: val_acc improved from 0.90130 to 0.90634, saving model to weights_cnn_sentece.hdf5\n",
            "Epoch 25/50\n",
            "15077/15077 [==============================] - 130s 9ms/step - loss: 0.0159 - acc: 0.9993 - val_loss: 0.3408 - val_acc: 0.9045\n",
            "\n",
            "Epoch 00025: val_acc did not improve from 0.90634\n",
            "Epoch 26/50\n",
            "15077/15077 [==============================] - 131s 9ms/step - loss: 0.0165 - acc: 0.9989 - val_loss: 0.3446 - val_acc: 0.9045\n",
            "\n",
            "Epoch 00026: val_acc did not improve from 0.90634\n",
            "Epoch 27/50\n",
            "15077/15077 [==============================] - 131s 9ms/step - loss: 0.0152 - acc: 0.9989 - val_loss: 0.3433 - val_acc: 0.9013\n",
            "\n",
            "Epoch 00027: val_acc did not improve from 0.90634\n",
            "Epoch 28/50\n",
            "15077/15077 [==============================] - 130s 9ms/step - loss: 0.0127 - acc: 0.9995 - val_loss: 0.3378 - val_acc: 0.9040\n",
            "\n",
            "Epoch 00028: val_acc did not improve from 0.90634\n",
            "Epoch 29/50\n",
            "15077/15077 [==============================] - 130s 9ms/step - loss: 0.0139 - acc: 0.9992 - val_loss: 0.3448 - val_acc: 0.9032\n",
            "\n",
            "Epoch 00029: val_acc did not improve from 0.90634\n",
            "Epoch 30/50\n",
            "15077/15077 [==============================] - 130s 9ms/step - loss: 0.0117 - acc: 0.9994 - val_loss: 0.3438 - val_acc: 0.9013\n",
            "\n",
            "Epoch 00030: val_acc did not improve from 0.90634\n",
            "Epoch 31/50\n",
            "15077/15077 [==============================] - 130s 9ms/step - loss: 0.0110 - acc: 0.9995 - val_loss: 0.3381 - val_acc: 0.9037\n",
            "\n",
            "Epoch 00031: val_acc did not improve from 0.90634\n",
            "Epoch 32/50\n",
            "15077/15077 [==============================] - 131s 9ms/step - loss: 0.0101 - acc: 0.9995 - val_loss: 0.3437 - val_acc: 0.9047\n",
            "\n",
            "Epoch 00032: val_acc did not improve from 0.90634\n",
            "Epoch 33/50\n",
            "15077/15077 [==============================] - 131s 9ms/step - loss: 0.0104 - acc: 0.9994 - val_loss: 0.3386 - val_acc: 0.9042\n",
            "\n",
            "Epoch 00033: val_acc did not improve from 0.90634\n",
            "Epoch 34/50\n",
            "15077/15077 [==============================] - 130s 9ms/step - loss: 0.0109 - acc: 0.9990 - val_loss: 0.3474 - val_acc: 0.9042\n",
            "\n",
            "Epoch 00034: val_acc did not improve from 0.90634\n",
            "Epoch 35/50\n",
            "15077/15077 [==============================] - 131s 9ms/step - loss: 0.0093 - acc: 0.9994 - val_loss: 0.3420 - val_acc: 0.9040\n",
            "\n",
            "Epoch 00035: val_acc did not improve from 0.90634\n",
            "Epoch 36/50\n",
            "15077/15077 [==============================] - 130s 9ms/step - loss: 0.0085 - acc: 0.9996 - val_loss: 0.3472 - val_acc: 0.9026\n",
            "\n",
            "Epoch 00036: val_acc did not improve from 0.90634\n",
            "Epoch 37/50\n",
            "15077/15077 [==============================] - 130s 9ms/step - loss: 0.0075 - acc: 0.9996 - val_loss: 0.3462 - val_acc: 0.9040\n",
            "\n",
            "Epoch 00037: val_acc did not improve from 0.90634\n",
            "Epoch 38/50\n",
            "15077/15077 [==============================] - 130s 9ms/step - loss: 0.0087 - acc: 0.9991 - val_loss: 0.3480 - val_acc: 0.9053\n",
            "\n",
            "Epoch 00038: val_acc did not improve from 0.90634\n",
            "Epoch 39/50\n",
            "15077/15077 [==============================] - 130s 9ms/step - loss: 0.0085 - acc: 0.9994 - val_loss: 0.3481 - val_acc: 0.9026\n",
            "\n",
            "Epoch 00039: val_acc did not improve from 0.90634\n",
            "Epoch 40/50\n",
            "15077/15077 [==============================] - 130s 9ms/step - loss: 0.0078 - acc: 0.9994 - val_loss: 0.3528 - val_acc: 0.9058\n",
            "\n",
            "Epoch 00040: val_acc did not improve from 0.90634\n",
            "Epoch 41/50\n",
            "15077/15077 [==============================] - 130s 9ms/step - loss: 0.0069 - acc: 0.9995 - val_loss: 0.3496 - val_acc: 0.9037\n",
            "\n",
            "Epoch 00041: val_acc did not improve from 0.90634\n",
            "Epoch 42/50\n",
            "15077/15077 [==============================] - 130s 9ms/step - loss: 0.0079 - acc: 0.9994 - val_loss: 0.3558 - val_acc: 0.9024\n",
            "\n",
            "Epoch 00042: val_acc did not improve from 0.90634\n",
            "Epoch 43/50\n",
            "15077/15077 [==============================] - 130s 9ms/step - loss: 0.0082 - acc: 0.9995 - val_loss: 0.3452 - val_acc: 0.9082\n",
            "\n",
            "Epoch 00043: val_acc improved from 0.90634 to 0.90820, saving model to weights_cnn_sentece.hdf5\n",
            "Epoch 44/50\n",
            "15077/15077 [==============================] - 130s 9ms/step - loss: 0.0078 - acc: 0.9993 - val_loss: 0.3582 - val_acc: 0.9045\n",
            "\n",
            "Epoch 00044: val_acc did not improve from 0.90820\n",
            "Epoch 45/50\n",
            "15077/15077 [==============================] - 130s 9ms/step - loss: 0.0074 - acc: 0.9990 - val_loss: 0.3597 - val_acc: 0.8992\n",
            "\n",
            "Epoch 00045: val_acc did not improve from 0.90820\n",
            "Epoch 46/50\n",
            "15077/15077 [==============================] - 131s 9ms/step - loss: 0.0059 - acc: 0.9996 - val_loss: 0.3655 - val_acc: 0.8984\n",
            "\n",
            "Epoch 00046: val_acc did not improve from 0.90820\n",
            "Epoch 47/50\n",
            "15077/15077 [==============================] - 131s 9ms/step - loss: 0.0062 - acc: 0.9997 - val_loss: 0.3536 - val_acc: 0.9050\n",
            "\n",
            "Epoch 00047: val_acc did not improve from 0.90820\n",
            "Epoch 48/50\n",
            "15077/15077 [==============================] - 131s 9ms/step - loss: 0.0057 - acc: 0.9996 - val_loss: 0.3496 - val_acc: 0.9050\n",
            "\n",
            "Epoch 00048: val_acc did not improve from 0.90820\n",
            "Epoch 49/50\n",
            "15077/15077 [==============================] - 131s 9ms/step - loss: 0.0052 - acc: 0.9997 - val_loss: 0.3521 - val_acc: 0.9042\n",
            "\n",
            "Epoch 00049: val_acc did not improve from 0.90820\n",
            "Epoch 50/50\n",
            "15077/15077 [==============================] - 131s 9ms/step - loss: 0.0058 - acc: 0.9996 - val_loss: 0.3564 - val_acc: 0.9032\n",
            "\n",
            "Epoch 00050: val_acc did not improve from 0.90820\n"
          ],
          "name": "stdout"
        }
      ]
    },
    {
      "cell_type": "code",
      "metadata": {
        "id": "0fUzADqFTx0T",
        "colab_type": "code",
        "colab": {
          "base_uri": "https://localhost:8080/",
          "height": 337
        },
        "outputId": "dca57c79-6234-498b-c8c5-3e035c0992c6"
      },
      "source": [
        "plot_history(history)"
      ],
      "execution_count": null,
      "outputs": [
        {
          "output_type": "display_data",
          "data": {
            "image/png": "[encoded data removed]",
            "text/plain": [
              "<Figure size 864x360 with 2 Axes>"
            ]
          },
          "metadata": {
            "tags": []
          }
        }
      ]
    },
    {
      "cell_type": "code",
      "metadata": {
        "id": "XeI9hP1IUR-j",
        "colab_type": "code",
        "colab": {
          "base_uri": "https://localhost:8080/",
          "height": 731
        },
        "outputId": "c4aaf707-3595-48c3-b62d-244cb652a7b3"
      },
      "source": [
        "print(\"Traning Model...\")\n",
        "history=model.fit(x_train, y_train, batch_size=batch_size, epochs=epochs, verbose=1, callbacks=[checkpoint], validation_data=(x_val, y_val))"
      ],
      "execution_count": null,
      "outputs": [
        {
          "output_type": "stream",
          "text": [
            "Traning Model...\n",
            "Train on 15077 samples, validate on 3769 samples\n",
            "Epoch 1/10\n",
            "15077/15077 [==============================] - 608s 40ms/step - loss: 2.1001 - acc: 0.4096 - val_loss: 0.9339 - val_acc: 0.7482\n",
            "\n",
            "Epoch 00001: val_acc improved from -inf to 0.74821, saving model to weights_cnn_sentece.hdf5\n",
            "Epoch 2/10\n",
            "15077/15077 [==============================] - 603s 40ms/step - loss: 0.7709 - acc: 0.7798 - val_loss: 0.6271 - val_acc: 0.8267\n",
            "\n",
            "Epoch 00002: val_acc improved from 0.74821 to 0.82674, saving model to weights_cnn_sentece.hdf5\n",
            "Epoch 3/10\n",
            "15077/15077 [==============================] - 606s 40ms/step - loss: 0.4837 - acc: 0.8703 - val_loss: 0.5147 - val_acc: 0.8573\n",
            "\n",
            "Epoch 00003: val_acc improved from 0.82674 to 0.85726, saving model to weights_cnn_sentece.hdf5\n",
            "Epoch 4/10\n",
            "15077/15077 [==============================] - 604s 40ms/step - loss: 0.3273 - acc: 0.9160 - val_loss: 0.4577 - val_acc: 0.8703\n",
            "\n",
            "Epoch 00004: val_acc improved from 0.85726 to 0.87026, saving model to weights_cnn_sentece.hdf5\n",
            "Epoch 5/10\n",
            "15077/15077 [==============================] - 604s 40ms/step - loss: 0.2336 - acc: 0.9467 - val_loss: 0.4089 - val_acc: 0.8817\n",
            "\n",
            "Epoch 00005: val_acc improved from 0.87026 to 0.88167, saving model to weights_cnn_sentece.hdf5\n",
            "Epoch 6/10\n",
            "15077/15077 [==============================] - 605s 40ms/step - loss: 0.1691 - acc: 0.9647 - val_loss: 0.3927 - val_acc: 0.8825\n",
            "\n",
            "Epoch 00006: val_acc improved from 0.88167 to 0.88246, saving model to weights_cnn_sentece.hdf5\n",
            "Epoch 7/10\n",
            "15077/15077 [==============================] - 606s 40ms/step - loss: 0.1213 - acc: 0.9807 - val_loss: 0.3663 - val_acc: 0.8894\n",
            "\n",
            "Epoch 00007: val_acc improved from 0.88246 to 0.88936, saving model to weights_cnn_sentece.hdf5\n",
            "Epoch 8/10\n",
            "15077/15077 [==============================] - 603s 40ms/step - loss: 0.0921 - acc: 0.9867 - val_loss: 0.3599 - val_acc: 0.8939\n",
            "\n",
            "Epoch 00008: val_acc improved from 0.88936 to 0.89387, saving model to weights_cnn_sentece.hdf5\n",
            "Epoch 9/10\n",
            "15077/15077 [==============================] - 604s 40ms/step - loss: 0.0703 - acc: 0.9913 - val_loss: 0.3502 - val_acc: 0.8952\n",
            "\n",
            "Epoch 00009: val_acc improved from 0.89387 to 0.89520, saving model to weights_cnn_sentece.hdf5\n",
            "Epoch 10/10\n",
            "15077/15077 [==============================] - 604s 40ms/step - loss: 0.0550 - acc: 0.9940 - val_loss: 0.3629 - val_acc: 0.8891\n",
            "\n",
            "Epoch 00010: val_acc did not improve from 0.89520\n"
          ],
          "name": "stdout"
        }
      ]
    },
    {
      "cell_type": "code",
      "metadata": {
        "id": "rVvxlpq8sT4W",
        "colab_type": "code",
        "colab": {
          "base_uri": "https://localhost:8080/",
          "height": 337
        },
        "outputId": "85187c16-3914-499a-d3e8-10cecb4fc7c5"
      },
      "source": [
        "plot_history(history)"
      ],
      "execution_count": null,
      "outputs": [
        {
          "output_type": "display_data",
          "data": {
            "image/png": "[encoded data removed]",
            "text/plain": [
              "<Figure size 864x360 with 2 Axes>"
            ]
          },
          "metadata": {
            "tags": []
          }
        }
      ]
    }
  ]
}