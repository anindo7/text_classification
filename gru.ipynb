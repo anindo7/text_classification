{
  "nbformat": 4,
  "nbformat_minor": 0,
  "metadata": {
    "colab": {
      "name": "gru.ipynb",
      "provenance": [],
      "collapsed_sections": [],
      "machine_shape": "hm"
    },
    "kernelspec": {
      "name": "python3",
      "display_name": "Python 3"
    },
    "accelerator": "TPU"
  },
  "cells": [
    {
      "cell_type": "code",
      "metadata": {
        "id": "YjHBH07ItGlV",
        "colab_type": "code",
        "colab": {}
      },
      "source": [
        "from keras.layers import Dropout, Dense, GRU, Embedding\n",
        "from keras.models import Sequential\n",
        "from sklearn.feature_extraction.text import TfidfVectorizer\n",
        "import numpy as np\n",
        "from sklearn import metrics\n",
        "from keras.preprocessing.text import Tokenizer\n",
        "from keras.preprocessing.sequence import pad_sequences\n",
        "from sklearn.datasets import fetch_20newsgroups"
      ],
      "execution_count": null,
      "outputs": []
    },
    {
      "cell_type": "code",
      "metadata": {
        "id": "h3LOrUB5tKO3",
        "colab_type": "code",
        "colab": {}
      },
      "source": [
        "def loadData_Tokenizer(X_train, X_test,MAX_NB_WORDS=75000,MAX_SEQUENCE_LENGTH=500):\n",
        "    np.random.seed(7)\n",
        "    text = np.concatenate((X_train, X_test), axis=0)\n",
        "    text = np.array(text)\n",
        "    tokenizer = Tokenizer(num_words=MAX_NB_WORDS)\n",
        "    tokenizer.fit_on_texts(text)\n",
        "    sequences = tokenizer.texts_to_sequences(text)\n",
        "    word_index = tokenizer.word_index\n",
        "    text = pad_sequences(sequences, maxlen=MAX_SEQUENCE_LENGTH)\n",
        "    print('Found %s unique tokens.' % len(word_index))\n",
        "    indices = np.arange(text.shape[0])\n",
        "    # np.random.shuffle(indices)\n",
        "    text = text[indices]\n",
        "    print(text.shape)\n",
        "    X_train = text[0:len(X_train), ]\n",
        "    X_test = text[len(X_train):, ]\n",
        "    embeddings_index = {}\n",
        "    f = open(\"./drive/My Drive/Colab Notebooks/glove.6B.50d.txt\", encoding=\"utf8\")\n",
        "    for line in f:\n",
        "\n",
        "        values = line.split()\n",
        "        word = values[0]\n",
        "        try:\n",
        "            coefs = np.asarray(values[1:], dtype='float32')\n",
        "        except:\n",
        "            pass\n",
        "        embeddings_index[word] = coefs\n",
        "    f.close()\n",
        "    print('Total %s word vectors.' % len(embeddings_index))\n",
        "    return (X_train, X_test, word_index,embeddings_index)"
      ],
      "execution_count": null,
      "outputs": []
    },
    {
      "cell_type": "code",
      "metadata": {
        "id": "97tTuZyUtmcm",
        "colab_type": "code",
        "colab": {
          "base_uri": "https://localhost:8080/",
          "height": 34
        },
        "outputId": "8616c735-b348-4164-cf87-b1c9af970c88"
      },
      "source": [
        "from google.colab import drive\n",
        "drive.mount('/content/drive')"
      ],
      "execution_count": null,
      "outputs": [
        {
          "output_type": "stream",
          "text": [
            "Drive already mounted at /content/drive; to attempt to forcibly remount, call drive.mount(\"/content/drive\", force_remount=True).\n"
          ],
          "name": "stdout"
        }
      ]
    },
    {
      "cell_type": "code",
      "metadata": {
        "id": "zNQVcasdt0KC",
        "colab_type": "code",
        "colab": {}
      },
      "source": [
        "def Build_Model_RNN_Text(word_index, embeddings_index, nclasses,  MAX_SEQUENCE_LENGTH=500, EMBEDDING_DIM=50, dropout=0.25):\n",
        "    \"\"\"\n",
        "    def buildModel_RNN(word_index, embeddings_index, nclasses,  MAX_SEQUENCE_LENGTH=500, EMBEDDING_DIM=50, dropout=0.5):\n",
        "    word_index in word index ,\n",
        "    embeddings_index is embeddings index, look at data_helper.py\n",
        "    nClasses is number of classes,\n",
        "    MAX_SEQUENCE_LENGTH is maximum lenght of text sequences\n",
        "    \"\"\"\n",
        "\n",
        "    model = Sequential()\n",
        "    hidden_layer = 3\n",
        "    gru_node = 64\n",
        "\n",
        "    embedding_matrix = np.random.random((len(word_index) + 1, EMBEDDING_DIM))\n",
        "    for word, i in word_index.items():\n",
        "        embedding_vector = embeddings_index.get(word)\n",
        "        if embedding_vector is not None:\n",
        "            # words not found in embedding index will be all-zeros.\n",
        "            if len(embedding_matrix[i]) != len(embedding_vector):\n",
        "                print(\"could not broadcast input array from shape\", str(len(embedding_matrix[i])),\n",
        "                      \"into shape\", str(len(embedding_vector)), \" Please make sure your\"\n",
        "                                                                \" EMBEDDING_DIM is equal to embedding_vector file ,GloVe,\")\n",
        "                exit(1)\n",
        "            embedding_matrix[i] = embedding_vector\n",
        "    model.add(Embedding(len(word_index) + 1,\n",
        "                                EMBEDDING_DIM,\n",
        "                                weights=[embedding_matrix],\n",
        "                                input_length=MAX_SEQUENCE_LENGTH,\n",
        "                                trainable=True))\n",
        "\n",
        "\n",
        "    print(gru_node)\n",
        "    for i in range(0,hidden_layer):\n",
        "        model.add(GRU(gru_node,return_sequences=True, recurrent_dropout=0.2))\n",
        "        model.add(Dropout(dropout))\n",
        "    model.add(GRU(gru_node, recurrent_dropout=0.2))\n",
        "    model.add(Dropout(dropout))\n",
        "    model.add(Dense(256, activation='relu'))\n",
        "    model.add(Dense(nclasses, activation='softmax'))\n",
        "\n",
        "\n",
        "    model.compile(loss='sparse_categorical_crossentropy',\n",
        "                      optimizer='adam',\n",
        "                      metrics=['accuracy'])\n",
        "    return model"
      ],
      "execution_count": null,
      "outputs": []
    },
    {
      "cell_type": "code",
      "metadata": {
        "id": "_P67NPjk4bti",
        "colab_type": "code",
        "colab": {
          "base_uri": "https://localhost:8080/",
          "height": 51
        },
        "outputId": "5237a8a9-8914-4229-f5b6-853c7b0b7a10"
      },
      "source": [
        "newsgroups_train = fetch_20newsgroups(subset='train')\n",
        "newsgroups_test = fetch_20newsgroups(subset='test')\n",
        "X_train = newsgroups_train.data\n",
        "X_test = newsgroups_test.data\n",
        "y_train = newsgroups_train.target\n",
        "y_test = newsgroups_test.target\n",
        "\n",
        "texts=[]\n",
        "\n",
        "for x in X_train:\n",
        "  texts.append(x)\n",
        "for x in X_test:\n",
        "  texts.append(x)\n",
        "print(len(texts))\n",
        "\n",
        "labels=[]\n",
        "\n",
        "for x in y_train:\n",
        "  labels.append(x)\n",
        "for x in y_test:\n",
        "  labels.append(x)\n",
        "print(len(labels))"
      ],
      "execution_count": null,
      "outputs": [
        {
          "output_type": "stream",
          "text": [
            "18846\n",
            "18846\n"
          ],
          "name": "stdout"
        }
      ]
    },
    {
      "cell_type": "code",
      "metadata": {
        "id": "57YKUNfM5Rlz",
        "colab_type": "code",
        "colab": {}
      },
      "source": [
        "nb_validation_samples = int(0.2 * len(texts))\n",
        "\n",
        "x_train = texts[:-nb_validation_samples]\n",
        "y_train = labels[:-nb_validation_samples]\n",
        "x_val = texts[-nb_validation_samples:]\n",
        "y_val = labels[-nb_validation_samples:]"
      ],
      "execution_count": null,
      "outputs": []
    },
    {
      "cell_type": "code",
      "metadata": {
        "id": "PJlzCfaN7K_q",
        "colab_type": "code",
        "colab": {
          "base_uri": "https://localhost:8080/",
          "height": 68
        },
        "outputId": "bdab0b08-d9fb-4ffc-d26d-29c1edb2c2e7"
      },
      "source": [
        "newsgroups_train = fetch_20newsgroups(subset='train')\n",
        "newsgroups_test = fetch_20newsgroups(subset='test')\n",
        "X_train = newsgroups_train.data\n",
        "X_test = newsgroups_test.data\n",
        "y_train = newsgroups_train.target\n",
        "y_test = newsgroups_test.target\n",
        "\n",
        "X_train_Glove,X_test_Glove, word_index,embeddings_index = loadData_Tokenizer(X_train,X_test)"
      ],
      "execution_count": null,
      "outputs": [
        {
          "output_type": "stream",
          "text": [
            "Found 179209 unique tokens.\n",
            "(18846, 500)\n",
            "Total 400000 word vectors.\n"
          ],
          "name": "stdout"
        }
      ]
    },
    {
      "cell_type": "code",
      "metadata": {
        "id": "p6cTHmAG7bVD",
        "colab_type": "code",
        "colab": {
          "base_uri": "https://localhost:8080/",
          "height": 544
        },
        "outputId": "2fc31c57-f89a-4c65-8042-62677dc863e4"
      },
      "source": [
        "model_RNN = Build_Model_RNN_Text(word_index,embeddings_index, 20)\n",
        "\n",
        "model_RNN.summary()"
      ],
      "execution_count": null,
      "outputs": [
        {
          "output_type": "stream",
          "text": [
            "64\n",
            "Model: \"sequential_9\"\n",
            "_________________________________________________________________\n",
            "Layer (type)                 Output Shape              Param #   \n",
            "=================================================================\n",
            "embedding_9 (Embedding)      (None, 500, 50)           8960500   \n",
            "_________________________________________________________________\n",
            "gru_33 (GRU)                 (None, 500, 64)           22080     \n",
            "_________________________________________________________________\n",
            "dropout_33 (Dropout)         (None, 500, 64)           0         \n",
            "_________________________________________________________________\n",
            "gru_34 (GRU)                 (None, 500, 64)           24768     \n",
            "_________________________________________________________________\n",
            "dropout_34 (Dropout)         (None, 500, 64)           0         \n",
            "_________________________________________________________________\n",
            "gru_35 (GRU)                 (None, 500, 64)           24768     \n",
            "_________________________________________________________________\n",
            "dropout_35 (Dropout)         (None, 500, 64)           0         \n",
            "_________________________________________________________________\n",
            "gru_36 (GRU)                 (None, 64)                24768     \n",
            "_________________________________________________________________\n",
            "dropout_36 (Dropout)         (None, 64)                0         \n",
            "_________________________________________________________________\n",
            "dense_17 (Dense)             (None, 256)               16640     \n",
            "_________________________________________________________________\n",
            "dense_18 (Dense)             (None, 20)                5140      \n",
            "=================================================================\n",
            "Total params: 9,078,664\n",
            "Trainable params: 9,078,664\n",
            "Non-trainable params: 0\n",
            "_________________________________________________________________\n"
          ],
          "name": "stdout"
        }
      ]
    },
    {
      "cell_type": "code",
      "metadata": {
        "id": "RXAc3L7juHFt",
        "colab_type": "code",
        "colab": {
          "base_uri": "https://localhost:8080/",
          "height": 1000
        },
        "outputId": "f655f29b-b5e8-45ff-9db8-56e63156b7df"
      },
      "source": [
        "history=model_RNN.fit(X_train_Glove, y_train,\n",
        "                              validation_data=(X_test_Glove, y_test),\n",
        "                              epochs=50,\n",
        "                              batch_size=256,\n",
        "                              verbose=2)\n",
        "\n",
        "predicted = model_RNN.predict_classes(X_test_Glove)\n",
        "\n",
        "print(metrics.classification_report(y_test, predicted))"
      ],
      "execution_count": null,
      "outputs": [
        {
          "output_type": "stream",
          "text": [
            "Train on 11314 samples, validate on 7532 samples\n",
            "Epoch 1/50\n",
            " - 191s - loss: 2.9055 - acc: 0.0986 - val_loss: 2.7286 - val_acc: 0.1422\n",
            "Epoch 2/50\n",
            " - 184s - loss: 2.5549 - acc: 0.1595 - val_loss: 2.2940 - val_acc: 0.2176\n",
            "Epoch 3/50\n",
            " - 181s - loss: 2.1756 - acc: 0.2373 - val_loss: 1.9848 - val_acc: 0.3072\n",
            "Epoch 4/50\n",
            " - 181s - loss: 1.8707 - acc: 0.3306 - val_loss: 1.7571 - val_acc: 0.3784\n",
            "Epoch 5/50\n",
            " - 178s - loss: 1.5527 - acc: 0.4337 - val_loss: 1.5928 - val_acc: 0.4349\n",
            "Epoch 6/50\n",
            " - 179s - loss: 1.2989 - acc: 0.5208 - val_loss: 1.5073 - val_acc: 0.4810\n",
            "Epoch 7/50\n",
            " - 181s - loss: 1.0604 - acc: 0.6115 - val_loss: 1.4102 - val_acc: 0.5276\n",
            "Epoch 8/50\n",
            " - 181s - loss: 0.8570 - acc: 0.6912 - val_loss: 1.3246 - val_acc: 0.5777\n",
            "Epoch 9/50\n",
            " - 182s - loss: 0.6931 - acc: 0.7499 - val_loss: 1.3212 - val_acc: 0.6091\n",
            "Epoch 10/50\n",
            " - 177s - loss: 0.5713 - acc: 0.7998 - val_loss: 1.3649 - val_acc: 0.6168\n",
            "Epoch 11/50\n",
            " - 181s - loss: 0.4345 - acc: 0.8498 - val_loss: 1.3510 - val_acc: 0.6472\n",
            "Epoch 12/50\n",
            " - 182s - loss: 0.3173 - acc: 0.8990 - val_loss: 1.4688 - val_acc: 0.6483\n",
            "Epoch 13/50\n",
            " - 183s - loss: 0.2483 - acc: 0.9206 - val_loss: 1.4960 - val_acc: 0.6660\n",
            "Epoch 14/50\n",
            " - 185s - loss: 0.2013 - acc: 0.9388 - val_loss: 1.5708 - val_acc: 0.6645\n",
            "Epoch 15/50\n",
            " - 181s - loss: 0.1455 - acc: 0.9578 - val_loss: 1.5868 - val_acc: 0.6755\n",
            "Epoch 16/50\n",
            " - 188s - loss: 0.1245 - acc: 0.9631 - val_loss: 1.6328 - val_acc: 0.6786\n",
            "Epoch 17/50\n",
            " - 188s - loss: 0.0905 - acc: 0.9735 - val_loss: 1.7129 - val_acc: 0.6786\n",
            "Epoch 18/50\n",
            " - 186s - loss: 0.0739 - acc: 0.9794 - val_loss: 1.7634 - val_acc: 0.6823\n",
            "Epoch 19/50\n",
            " - 187s - loss: 0.0675 - acc: 0.9801 - val_loss: 1.8353 - val_acc: 0.6791\n",
            "Epoch 20/50\n",
            " - 182s - loss: 0.0517 - acc: 0.9861 - val_loss: 1.8585 - val_acc: 0.6859\n",
            "Epoch 21/50\n",
            " - 185s - loss: 0.0403 - acc: 0.9891 - val_loss: 1.9257 - val_acc: 0.6880\n",
            "Epoch 22/50\n",
            " - 184s - loss: 0.0408 - acc: 0.9904 - val_loss: 1.9415 - val_acc: 0.6852\n",
            "Epoch 23/50\n",
            " - 184s - loss: 0.0279 - acc: 0.9933 - val_loss: 1.9709 - val_acc: 0.6892\n",
            "Epoch 24/50\n",
            " - 184s - loss: 0.0270 - acc: 0.9933 - val_loss: 1.9893 - val_acc: 0.6908\n",
            "Epoch 25/50\n",
            " - 181s - loss: 0.0275 - acc: 0.9927 - val_loss: 2.0170 - val_acc: 0.6885\n",
            "Epoch 26/50\n",
            " - 184s - loss: 0.0247 - acc: 0.9932 - val_loss: 2.0134 - val_acc: 0.6964\n",
            "Epoch 27/50\n",
            " - 184s - loss: 0.0239 - acc: 0.9936 - val_loss: 2.1544 - val_acc: 0.6758\n",
            "Epoch 28/50\n",
            " - 185s - loss: 0.0263 - acc: 0.9920 - val_loss: 2.1487 - val_acc: 0.6839\n",
            "Epoch 29/50\n",
            " - 184s - loss: 0.0305 - acc: 0.9908 - val_loss: 2.0568 - val_acc: 0.6974\n",
            "Epoch 30/50\n",
            " - 181s - loss: 0.0187 - acc: 0.9954 - val_loss: 2.0967 - val_acc: 0.6924\n",
            "Epoch 31/50\n",
            " - 183s - loss: 0.0155 - acc: 0.9953 - val_loss: 2.1275 - val_acc: 0.6986\n",
            "Epoch 32/50\n",
            " - 185s - loss: 0.0152 - acc: 0.9960 - val_loss: 2.1802 - val_acc: 0.6964\n",
            "Epoch 33/50\n",
            " - 185s - loss: 0.0164 - acc: 0.9955 - val_loss: 2.1514 - val_acc: 0.6958\n",
            "Epoch 34/50\n",
            " - 183s - loss: 0.0154 - acc: 0.9958 - val_loss: 2.1910 - val_acc: 0.6965\n",
            "Epoch 35/50\n",
            " - 184s - loss: 0.0144 - acc: 0.9961 - val_loss: 2.1796 - val_acc: 0.6969\n",
            "Epoch 36/50\n",
            " - 186s - loss: 0.0114 - acc: 0.9971 - val_loss: 2.2594 - val_acc: 0.6924\n",
            "Epoch 37/50\n",
            " - 178s - loss: 0.0111 - acc: 0.9970 - val_loss: 2.1988 - val_acc: 0.6986\n",
            "Epoch 38/50\n",
            " - 181s - loss: 0.0074 - acc: 0.9981 - val_loss: 2.3057 - val_acc: 0.6909\n",
            "Epoch 39/50\n",
            " - 184s - loss: 0.0103 - acc: 0.9975 - val_loss: 2.2263 - val_acc: 0.7019\n",
            "Epoch 40/50\n",
            " - 183s - loss: 0.0093 - acc: 0.9975 - val_loss: 2.2651 - val_acc: 0.6976\n",
            "Epoch 41/50\n",
            " - 184s - loss: 0.0113 - acc: 0.9967 - val_loss: 2.2909 - val_acc: 0.6981\n",
            "Epoch 42/50\n",
            " - 181s - loss: 0.0117 - acc: 0.9962 - val_loss: 2.3167 - val_acc: 0.6928\n",
            "Epoch 43/50\n",
            " - 185s - loss: 0.0131 - acc: 0.9962 - val_loss: 2.3358 - val_acc: 0.6998\n",
            "Epoch 44/50\n",
            " - 184s - loss: 0.0120 - acc: 0.9960 - val_loss: 2.3743 - val_acc: 0.6900\n",
            "Epoch 45/50\n",
            " - 182s - loss: 0.0120 - acc: 0.9958 - val_loss: 2.3594 - val_acc: 0.6995\n",
            "Epoch 46/50\n",
            " - 182s - loss: 0.0157 - acc: 0.9954 - val_loss: 2.5040 - val_acc: 0.6847\n",
            "Epoch 47/50\n",
            " - 177s - loss: 0.0144 - acc: 0.9961 - val_loss: 2.3767 - val_acc: 0.6946\n",
            "Epoch 48/50\n",
            " - 181s - loss: 0.0117 - acc: 0.9968 - val_loss: 2.3941 - val_acc: 0.6977\n",
            "Epoch 49/50\n",
            " - 183s - loss: 0.0111 - acc: 0.9970 - val_loss: 2.3589 - val_acc: 0.6989\n",
            "Epoch 50/50\n",
            " - 183s - loss: 0.0098 - acc: 0.9972 - val_loss: 2.3728 - val_acc: 0.7003\n",
            "              precision    recall  f1-score   support\n",
            "\n",
            "           0       0.80      0.61      0.69       319\n",
            "           1       0.53      0.65      0.59       389\n",
            "           2       0.58      0.62      0.60       394\n",
            "           3       0.57      0.63      0.60       392\n",
            "           4       0.58      0.61      0.59       385\n",
            "           5       0.70      0.57      0.63       395\n",
            "           6       0.66      0.74      0.70       390\n",
            "           7       0.69      0.76      0.73       396\n",
            "           8       0.83      0.83      0.83       398\n",
            "           9       0.87      0.86      0.87       397\n",
            "          10       0.93      0.90      0.91       399\n",
            "          11       0.79      0.80      0.80       396\n",
            "          12       0.59      0.51      0.55       393\n",
            "          13       0.81      0.71      0.76       396\n",
            "          14       0.70      0.66      0.68       394\n",
            "          15       0.85      0.80      0.82       398\n",
            "          16       0.72      0.70      0.71       364\n",
            "          17       0.91      0.84      0.87       376\n",
            "          18       0.48      0.57      0.52       310\n",
            "          19       0.45      0.51      0.48       251\n",
            "\n",
            "    accuracy                           0.70      7532\n",
            "   macro avg       0.70      0.69      0.70      7532\n",
            "weighted avg       0.71      0.70      0.70      7532\n",
            "\n"
          ],
          "name": "stdout"
        }
      ]
    },
    {
      "cell_type": "code",
      "metadata": {
        "id": "UJVBWuaENHYb",
        "colab_type": "code",
        "colab": {}
      },
      "source": [
        "import matplotlib.pyplot as plt\n",
        "plt.style.use('ggplot')\n",
        "\n",
        "def plot_history(history):\n",
        "    acc = history.history['acc']\n",
        "    val_acc = history.history['val_acc']\n",
        "    loss = history.history['loss']\n",
        "    val_loss = history.history['val_loss']\n",
        "    x = range(1, len(acc) + 1)\n",
        "\n",
        "    plt.figure(figsize=(12, 5))\n",
        "    plt.subplot(1, 2, 1)\n",
        "    plt.plot(x, acc, 'b', label='Training acc')\n",
        "    plt.plot(x, val_acc, 'r', label='Validation acc')\n",
        "    plt.title('Training and validation accuracy')\n",
        "    plt.legend()\n",
        "    plt.subplot(1, 2, 2)\n",
        "    plt.plot(x, loss, 'b', label='Training loss')\n",
        "    plt.plot(x, val_loss, 'r', label='Validation loss')\n",
        "    plt.title('Training and validation loss')\n",
        "    plt.legend()"
      ],
      "execution_count": null,
      "outputs": []
    },
    {
      "cell_type": "code",
      "metadata": {
        "id": "2d1Oly4iNWDu",
        "colab_type": "code",
        "colab": {
          "base_uri": "https://localhost:8080/",
          "height": 337
        },
        "outputId": "ca7a7811-37a3-499c-c52e-b615edcd10da"
      },
      "source": [
        "plot_history(history)"
      ],
      "execution_count": null,
      "outputs": [
        {
          "output_type": "display_data",
          "data": {
            "image/png": "[encoded data removed]",
            "text/plain": [
              "<Figure size 864x360 with 2 Axes>"
            ]
          },
          "metadata": {
            "tags": []
          }
        }
      ]
    }
  ]
}